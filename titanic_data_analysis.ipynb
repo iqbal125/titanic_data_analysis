{
 "cells": [
  {
   "cell_type": "markdown",
   "metadata": {},
   "source": [
    "<h1>Titanic Data Analysis</h1>"
   ]
  },
  {
   "cell_type": "markdown",
   "metadata": {},
   "source": [
    "In this notebook we will explore the titanic data set and try to see if there are characteristics that allowed a passenger to have a higher rate of survival."
   ]
  },
  {
   "cell_type": "code",
   "execution_count": 126,
   "metadata": {
    "collapsed": false
   },
   "outputs": [],
   "source": [
    "#importing dependencies\n",
    "import csv\n",
    "import pandas as pd\n",
    "import numpy as np\n",
    "import matplotlib as mpl\n",
    "import matplotlib.pyplot as plt\n",
    "import seaborn as sns\n",
    "%matplotlib inline\n",
    "from pandasql import sqldf\n",
    "\n",
    "\n",
    "def pysqldf(q):\n",
    "    return sqldf(q, globals())\n",
    "\n",
    "\n",
    "data = pd.read_csv('titanic-data.csv')\n",
    "\n"
   ]
  },
  {
   "cell_type": "markdown",
   "metadata": {},
   "source": [
    "<h3> Basic Exploration</h3>"
   ]
  },
  {
   "cell_type": "code",
   "execution_count": 2,
   "metadata": {
    "collapsed": false
   },
   "outputs": [
    {
     "data": {
      "text/html": [
       "<div>\n",
       "<table border=\"1\" class=\"dataframe\">\n",
       "  <thead>\n",
       "    <tr style=\"text-align: right;\">\n",
       "      <th></th>\n",
       "      <th>PassengerId</th>\n",
       "      <th>Survived</th>\n",
       "      <th>Pclass</th>\n",
       "      <th>Name</th>\n",
       "      <th>Sex</th>\n",
       "      <th>Age</th>\n",
       "      <th>SibSp</th>\n",
       "      <th>Parch</th>\n",
       "      <th>Ticket</th>\n",
       "      <th>Fare</th>\n",
       "      <th>Cabin</th>\n",
       "      <th>Embarked</th>\n",
       "    </tr>\n",
       "  </thead>\n",
       "  <tbody>\n",
       "    <tr>\n",
       "      <th>0</th>\n",
       "      <td>1</td>\n",
       "      <td>0</td>\n",
       "      <td>3</td>\n",
       "      <td>Braund, Mr. Owen Harris</td>\n",
       "      <td>male</td>\n",
       "      <td>22.0</td>\n",
       "      <td>1</td>\n",
       "      <td>0</td>\n",
       "      <td>A/5 21171</td>\n",
       "      <td>7.2500</td>\n",
       "      <td>NaN</td>\n",
       "      <td>S</td>\n",
       "    </tr>\n",
       "    <tr>\n",
       "      <th>1</th>\n",
       "      <td>2</td>\n",
       "      <td>1</td>\n",
       "      <td>1</td>\n",
       "      <td>Cumings, Mrs. John Bradley (Florence Briggs Th...</td>\n",
       "      <td>female</td>\n",
       "      <td>38.0</td>\n",
       "      <td>1</td>\n",
       "      <td>0</td>\n",
       "      <td>PC 17599</td>\n",
       "      <td>71.2833</td>\n",
       "      <td>C85</td>\n",
       "      <td>C</td>\n",
       "    </tr>\n",
       "    <tr>\n",
       "      <th>2</th>\n",
       "      <td>3</td>\n",
       "      <td>1</td>\n",
       "      <td>3</td>\n",
       "      <td>Heikkinen, Miss. Laina</td>\n",
       "      <td>female</td>\n",
       "      <td>26.0</td>\n",
       "      <td>0</td>\n",
       "      <td>0</td>\n",
       "      <td>STON/O2. 3101282</td>\n",
       "      <td>7.9250</td>\n",
       "      <td>NaN</td>\n",
       "      <td>S</td>\n",
       "    </tr>\n",
       "    <tr>\n",
       "      <th>3</th>\n",
       "      <td>4</td>\n",
       "      <td>1</td>\n",
       "      <td>1</td>\n",
       "      <td>Futrelle, Mrs. Jacques Heath (Lily May Peel)</td>\n",
       "      <td>female</td>\n",
       "      <td>35.0</td>\n",
       "      <td>1</td>\n",
       "      <td>0</td>\n",
       "      <td>113803</td>\n",
       "      <td>53.1000</td>\n",
       "      <td>C123</td>\n",
       "      <td>S</td>\n",
       "    </tr>\n",
       "    <tr>\n",
       "      <th>4</th>\n",
       "      <td>5</td>\n",
       "      <td>0</td>\n",
       "      <td>3</td>\n",
       "      <td>Allen, Mr. William Henry</td>\n",
       "      <td>male</td>\n",
       "      <td>35.0</td>\n",
       "      <td>0</td>\n",
       "      <td>0</td>\n",
       "      <td>373450</td>\n",
       "      <td>8.0500</td>\n",
       "      <td>NaN</td>\n",
       "      <td>S</td>\n",
       "    </tr>\n",
       "    <tr>\n",
       "      <th>5</th>\n",
       "      <td>6</td>\n",
       "      <td>0</td>\n",
       "      <td>3</td>\n",
       "      <td>Moran, Mr. James</td>\n",
       "      <td>male</td>\n",
       "      <td>NaN</td>\n",
       "      <td>0</td>\n",
       "      <td>0</td>\n",
       "      <td>330877</td>\n",
       "      <td>8.4583</td>\n",
       "      <td>NaN</td>\n",
       "      <td>Q</td>\n",
       "    </tr>\n",
       "    <tr>\n",
       "      <th>6</th>\n",
       "      <td>7</td>\n",
       "      <td>0</td>\n",
       "      <td>1</td>\n",
       "      <td>McCarthy, Mr. Timothy J</td>\n",
       "      <td>male</td>\n",
       "      <td>54.0</td>\n",
       "      <td>0</td>\n",
       "      <td>0</td>\n",
       "      <td>17463</td>\n",
       "      <td>51.8625</td>\n",
       "      <td>E46</td>\n",
       "      <td>S</td>\n",
       "    </tr>\n",
       "    <tr>\n",
       "      <th>7</th>\n",
       "      <td>8</td>\n",
       "      <td>0</td>\n",
       "      <td>3</td>\n",
       "      <td>Palsson, Master. Gosta Leonard</td>\n",
       "      <td>male</td>\n",
       "      <td>2.0</td>\n",
       "      <td>3</td>\n",
       "      <td>1</td>\n",
       "      <td>349909</td>\n",
       "      <td>21.0750</td>\n",
       "      <td>NaN</td>\n",
       "      <td>S</td>\n",
       "    </tr>\n",
       "    <tr>\n",
       "      <th>8</th>\n",
       "      <td>9</td>\n",
       "      <td>1</td>\n",
       "      <td>3</td>\n",
       "      <td>Johnson, Mrs. Oscar W (Elisabeth Vilhelmina Berg)</td>\n",
       "      <td>female</td>\n",
       "      <td>27.0</td>\n",
       "      <td>0</td>\n",
       "      <td>2</td>\n",
       "      <td>347742</td>\n",
       "      <td>11.1333</td>\n",
       "      <td>NaN</td>\n",
       "      <td>S</td>\n",
       "    </tr>\n",
       "    <tr>\n",
       "      <th>9</th>\n",
       "      <td>10</td>\n",
       "      <td>1</td>\n",
       "      <td>2</td>\n",
       "      <td>Nasser, Mrs. Nicholas (Adele Achem)</td>\n",
       "      <td>female</td>\n",
       "      <td>14.0</td>\n",
       "      <td>1</td>\n",
       "      <td>0</td>\n",
       "      <td>237736</td>\n",
       "      <td>30.0708</td>\n",
       "      <td>NaN</td>\n",
       "      <td>C</td>\n",
       "    </tr>\n",
       "  </tbody>\n",
       "</table>\n",
       "</div>"
      ],
      "text/plain": [
       "   PassengerId  Survived  Pclass  \\\n",
       "0            1         0       3   \n",
       "1            2         1       1   \n",
       "2            3         1       3   \n",
       "3            4         1       1   \n",
       "4            5         0       3   \n",
       "5            6         0       3   \n",
       "6            7         0       1   \n",
       "7            8         0       3   \n",
       "8            9         1       3   \n",
       "9           10         1       2   \n",
       "\n",
       "                                                Name     Sex   Age  SibSp  \\\n",
       "0                            Braund, Mr. Owen Harris    male  22.0      1   \n",
       "1  Cumings, Mrs. John Bradley (Florence Briggs Th...  female  38.0      1   \n",
       "2                             Heikkinen, Miss. Laina  female  26.0      0   \n",
       "3       Futrelle, Mrs. Jacques Heath (Lily May Peel)  female  35.0      1   \n",
       "4                           Allen, Mr. William Henry    male  35.0      0   \n",
       "5                                   Moran, Mr. James    male   NaN      0   \n",
       "6                            McCarthy, Mr. Timothy J    male  54.0      0   \n",
       "7                     Palsson, Master. Gosta Leonard    male   2.0      3   \n",
       "8  Johnson, Mrs. Oscar W (Elisabeth Vilhelmina Berg)  female  27.0      0   \n",
       "9                Nasser, Mrs. Nicholas (Adele Achem)  female  14.0      1   \n",
       "\n",
       "   Parch            Ticket     Fare Cabin Embarked  \n",
       "0      0         A/5 21171   7.2500   NaN        S  \n",
       "1      0          PC 17599  71.2833   C85        C  \n",
       "2      0  STON/O2. 3101282   7.9250   NaN        S  \n",
       "3      0            113803  53.1000  C123        S  \n",
       "4      0            373450   8.0500   NaN        S  \n",
       "5      0            330877   8.4583   NaN        Q  \n",
       "6      0             17463  51.8625   E46        S  \n",
       "7      1            349909  21.0750   NaN        S  \n",
       "8      2            347742  11.1333   NaN        S  \n",
       "9      0            237736  30.0708   NaN        C  "
      ]
     },
     "execution_count": 2,
     "metadata": {},
     "output_type": "execute_result"
    }
   ],
   "source": [
    "#Exploring the first ten rows of each column\n",
    "data.head(10)"
   ]
  },
  {
   "cell_type": "code",
   "execution_count": 3,
   "metadata": {
    "collapsed": false
   },
   "outputs": [
    {
     "name": "stdout",
     "output_type": "stream",
     "text": [
      "<class 'pandas.core.frame.DataFrame'>\n",
      "RangeIndex: 891 entries, 0 to 890\n",
      "Data columns (total 12 columns):\n",
      "PassengerId    891 non-null int64\n",
      "Survived       891 non-null int64\n",
      "Pclass         891 non-null int64\n",
      "Name           891 non-null object\n",
      "Sex            891 non-null object\n",
      "Age            714 non-null float64\n",
      "SibSp          891 non-null int64\n",
      "Parch          891 non-null int64\n",
      "Ticket         891 non-null object\n",
      "Fare           891 non-null float64\n",
      "Cabin          204 non-null object\n",
      "Embarked       889 non-null object\n",
      "dtypes: float64(2), int64(5), object(5)\n",
      "memory usage: 83.6+ KB\n"
     ]
    }
   ],
   "source": [
    "#Looking at the NA values of each colunn\n",
    "data.info()"
   ]
  },
  {
   "cell_type": "code",
   "execution_count": 4,
   "metadata": {
    "collapsed": false
   },
   "outputs": [
    {
     "data": {
      "text/plain": [
       "count    714.000000\n",
       "mean      29.699118\n",
       "std       14.526497\n",
       "min        0.420000\n",
       "25%       20.125000\n",
       "50%       28.000000\n",
       "75%       38.000000\n",
       "max       80.000000\n",
       "Name: Age, dtype: float64"
      ]
     },
     "execution_count": 4,
     "metadata": {},
     "output_type": "execute_result"
    }
   ],
   "source": [
    "#Overview of Age column \n",
    "data[\"Age\"].describe()"
   ]
  },
  {
   "cell_type": "code",
   "execution_count": 5,
   "metadata": {
    "collapsed": false
   },
   "outputs": [
    {
     "data": {
      "image/png": "[encoded data removed]",
      "text/plain": [
       "<matplotlib.figure.Figure at 0xa4cd748>"
      ]
     },
     "metadata": {},
     "output_type": "display_data"
    }
   ],
   "source": [
    "x = data['Pclass']\n",
    "sns.distplot(x);"
   ]
  },
  {
   "cell_type": "markdown",
   "metadata": {},
   "source": [
    "Here is a basic plot of the different classes. This graph clearly shows class three has significantly more passengers. "
   ]
  },
  {
   "cell_type": "code",
   "execution_count": 6,
   "metadata": {
    "collapsed": false
   },
   "outputs": [
    {
     "data": {
      "image/png": "[encoded data removed]",
      "text/plain": [
       "<matplotlib.figure.Figure at 0xa6e40b8>"
      ]
     },
     "metadata": {},
     "output_type": "display_data"
    }
   ],
   "source": [
    "x2 = data['Fare']\n",
    "sns.distplot(x2);"
   ]
  },
  {
   "cell_type": "markdown",
   "metadata": {},
   "source": [
    "Here is the basic distribution of of fares. As you can see the vast majority of passengers paid between 1 and 100 dollars for their fare"
   ]
  },
  {
   "cell_type": "code",
   "execution_count": 7,
   "metadata": {
    "collapsed": false
   },
   "outputs": [
    {
     "data": {
      "text/plain": [
       "count    891.000000\n",
       "mean      32.204208\n",
       "std       49.693429\n",
       "min        0.000000\n",
       "25%        7.910400\n",
       "50%       14.454200\n",
       "75%       31.000000\n",
       "max      512.329200\n",
       "Name: Fare, dtype: float64"
      ]
     },
     "execution_count": 7,
     "metadata": {},
     "output_type": "execute_result"
    }
   ],
   "source": [
    "#Overview of Fare column\n",
    "data[\"Fare\"].describe()"
   ]
  },
  {
   "cell_type": "markdown",
   "metadata": {},
   "source": [
    "<h3>Basic Analysis:</h3><hr>\n",
    "177 missing values for Age.<br>\n",
    "Only 204 values non-null for Cabin.<br>\n",
    "Maybe Leave Cabin column out of data analysis.<br>\n",
    "Use average to fill in missing ages or look at title in name and give average based on title.<br>\n",
    "The 2 missing values for embarked are negligible.<br>\n",
    "The average passenger was around 30 years old.<br>\n",
    "75% of the passengers were age 38 or below.<br>\n",
    "The average fare was 32 dollars. <br>\n",
    "\n"
   ]
  },
  {
   "cell_type": "code",
   "execution_count": 8,
   "metadata": {
    "collapsed": false
   },
   "outputs": [
    {
     "name": "stdout",
     "output_type": "stream",
     "text": [
      "0.3838383838383838\n",
      "342\n"
     ]
    }
   ],
   "source": [
    "#Counting the number of survivors\n",
    "survived = 0\n",
    "total_passengers = 891\n",
    "\n",
    "for i in data['Survived']:\n",
    "    if i == 1:\n",
    "        survived += 1\n",
    "\n",
    "survival_rate = survived/total_passengers\n",
    "print(survival_rate)\n",
    "print(survived)"
   ]
  },
  {
   "cell_type": "code",
   "execution_count": 9,
   "metadata": {
    "collapsed": false
   },
   "outputs": [
    {
     "name": "stdout",
     "output_type": "stream",
     "text": [
      "216\n",
      "184\n",
      "491\n"
     ]
    }
   ],
   "source": [
    "#Counting passengers in each class\n",
    "pclass_1 = 0\n",
    "pclass_2 = 0\n",
    "pclass_3 = 0\n",
    "\n",
    "\n",
    "for i in data[\"Pclass\"]:\n",
    "    if i == 1:\n",
    "        pclass_1 += 1\n",
    "    elif i == 2:\n",
    "        pclass_2 += 1\n",
    "    else:\n",
    "        pclass_3 += 1\n",
    "\n",
    "print(pclass_1)\n",
    "print(pclass_2)\n",
    "print(pclass_3)"
   ]
  },
  {
   "cell_type": "code",
   "execution_count": 10,
   "metadata": {
    "collapsed": false
   },
   "outputs": [
    {
     "name": "stdout",
     "output_type": "stream",
     "text": [
      "314\n",
      "139\n"
     ]
    }
   ],
   "source": [
    "#Seperating females based on whether they are a minor\n",
    "females = 0\n",
    "minors = 0\n",
    "\n",
    "\n",
    "for i in data['Sex']:\n",
    "    if i == \"female\":\n",
    "        females += 1\n",
    "\n",
    "for i in data[\"Age\"]:\n",
    "    if i <= 18:\n",
    "        minors += 1\n",
    "\n",
    "\n",
    "print(females)\n",
    "print(minors)"
   ]
  },
  {
   "cell_type": "code",
   "execution_count": 11,
   "metadata": {
    "collapsed": false
   },
   "outputs": [
    {
     "name": "stdout",
     "output_type": "stream",
     "text": [
      "168\n",
      "77\n",
      "644\n"
     ]
    }
   ],
   "source": [
    "#Counting the number of passengers that embarked from each port\n",
    "embarked_C = 0\n",
    "embarked_Q = 0\n",
    "embarked_S = 0\n",
    "\n",
    "for i in data[\"Embarked\"]:\n",
    "    if i == \"C\":\n",
    "        embarked_C += 1\n",
    "\n",
    "for i in data[\"Embarked\"]:\n",
    "    if i == \"Q\":\n",
    "        embarked_Q += 1\n",
    "\n",
    "for i in data[\"Embarked\"]:\n",
    "    if i == \"S\":\n",
    "        embarked_S += 1\n",
    "\n",
    "print(embarked_C)\n",
    "print(embarked_Q)\n",
    "print(embarked_S)"
   ]
  },
  {
   "cell_type": "markdown",
   "metadata": {},
   "source": [
    "<h4>Basic Findings:</h4><hr>\n",
    "\n",
    "We see that 35% of the passengers are females.<br>\n",
    "There are also only 139 minors.<br>\n",
    "There were more 1st class seats than 2nd class seats which was unexpected.\n",
    "We see that the overall survival rate is only 38%. This may have something to do with the famous scene at the end of the movie where there are not enough lifeboats for the passengers on board. \n"
   ]
  },
  {
   "cell_type": "markdown",
   "metadata": {},
   "source": [
    "<h3> Deeper Analysis:</h3>"
   ]
  },
  {
   "cell_type": "code",
   "execution_count": 12,
   "metadata": {
    "collapsed": false
   },
   "outputs": [],
   "source": [
    "#Here we are counting the survival rate of passengers based on gender and whether they were a minor or not\n",
    "MinorMales = data[(data['Age'] <= 18) & (data['Sex']=='male') ].count()['PassengerId']\n",
    "MinorFemales = data[(data['Age'] <= 18) & (data['Sex']=='female') ].count()['PassengerId']\n",
    "AdultMales = data[(data['Age'] > 18) & (data['Sex']=='male') ].count()['PassengerId']\n",
    "AdultFemales = data[(data['Age'] > 18) & (data['Sex']=='female') ].count()['PassengerId']\n",
    "\n",
    "MinorMalesSurvived = data[(data['Age'] <=18) & (data['Sex']=='male') & (data[\"Survived\"]==1) ].count()['PassengerId']\n",
    "MinorFemalesSurvived = data[(data['Age'] <=18) & (data['Sex']=='female') & (data[\"Survived\"]==1) ].count()['PassengerId']\n",
    "AdultMalesSurvived = data[(data['Age'] > 18) & (data['Sex']=='male') & (data[\"Survived\"]==1) ].count()['PassengerId']\n",
    "AdultFemalesSurvived = data[(data['Age'] > 18) & (data['Sex']=='female') & (data[\"Survived\"]==1) ].count()['PassengerId']\n",
    "\n",
    "survival_rate_minor_males = MinorMalesSurvived/MinorMales\n",
    "survival_rate_minor_females = MinorFemalesSurvived/MinorFemales\n",
    "survival_rate_adult_males = AdultMalesSurvived/AdultMales\n",
    "survival_rate_adult_females = AdultFemalesSurvived/AdultFemales\n"
   ]
  },
  {
   "cell_type": "code",
   "execution_count": 13,
   "metadata": {
    "collapsed": false
   },
   "outputs": [
    {
     "name": "stdout",
     "output_type": "stream",
     "text": [
      "71\n",
      "68\n",
      "382\n",
      "193\n"
     ]
    }
   ],
   "source": [
    "#Number of females and males based on whether they are minors or not.\n",
    "print(MinorMales)\n",
    "print(MinorFemales)\n",
    "print(AdultMales)\n",
    "print(AdultFemales)"
   ]
  },
  {
   "cell_type": "code",
   "execution_count": 14,
   "metadata": {
    "collapsed": false
   },
   "outputs": [
    {
     "name": "stdout",
     "output_type": "stream",
     "text": [
      "24\n",
      "46\n",
      "69\n",
      "151\n"
     ]
    }
   ],
   "source": [
    "#Number of survivors of the minor and adult male and female groups\n",
    "print(MinorMalesSurvived)\n",
    "print(MinorFemalesSurvived)\n",
    "print(AdultMalesSurvived)\n",
    "print(AdultFemalesSurvived)"
   ]
  },
  {
   "cell_type": "code",
   "execution_count": 15,
   "metadata": {
    "collapsed": false
   },
   "outputs": [
    {
     "name": "stdout",
     "output_type": "stream",
     "text": [
      "0.338028169014\n",
      "0.676470588235\n",
      "0.180628272251\n",
      "0.782383419689\n"
     ]
    }
   ],
   "source": [
    "#Survival rate derivied from the previous two cells output\n",
    "print(survival_rate_minor_males)\n",
    "print(survival_rate_minor_females)\n",
    "print(survival_rate_adult_males)\n",
    "print(survival_rate_adult_females)"
   ]
  },
  {
   "cell_type": "code",
   "execution_count": 17,
   "metadata": {
    "collapsed": true
   },
   "outputs": [],
   "source": [
    "# Here we are seeing if a high fare affected survival rates\n",
    "HighFare = data[(data['Fare'] < 32) & (data['Survived']==1) ].count()['PassengerId']\n",
    "LowFare = data[(data['Fare'] > 32) & (data['Survived']==1) ].count()['PassengerId']\n"
   ]
  },
  {
   "cell_type": "code",
   "execution_count": 18,
   "metadata": {
    "collapsed": false
   },
   "outputs": [
    {
     "name": "stdout",
     "output_type": "stream",
     "text": [
      "216\n",
      "126\n"
     ]
    }
   ],
   "source": [
    "#Number of passengers with a high and low fare\n",
    "print(HighFare)\n",
    "print(LowFare)"
   ]
  },
  {
   "cell_type": "code",
   "execution_count": 19,
   "metadata": {
    "collapsed": false
   },
   "outputs": [],
   "source": [
    "#Here we are checking if having a family member lead to a higher survival rate\n",
    "data['Family'] = data['SibSp'] + data['Parch']\n",
    "\n",
    "passengers_with_family = data[data['Family'] > 0].count()['PassengerId']\n",
    "passengers_with_family_survived = data[(data['Family'] > 0)  & (data['Survived']==1)].count()['PassengerId']\n",
    "\n",
    "passengers_with_family_survival_rate = passengers_with_family_survived/passengers_with_family\n"
   ]
  },
  {
   "cell_type": "code",
   "execution_count": 20,
   "metadata": {
    "collapsed": false
   },
   "outputs": [
    {
     "name": "stdout",
     "output_type": "stream",
     "text": [
      "354\n",
      "179\n"
     ]
    }
   ],
   "source": [
    "#Number of each group and corresponding survival rate in the next cell. \n",
    "print(passengers_with_family)\n",
    "print(passengers_with_family_survived)"
   ]
  },
  {
   "cell_type": "code",
   "execution_count": 21,
   "metadata": {
    "collapsed": false
   },
   "outputs": [
    {
     "name": "stdout",
     "output_type": "stream",
     "text": [
      "0.505649717514\n"
     ]
    }
   ],
   "source": [
    "print(passengers_with_family_survival_rate)"
   ]
  },
  {
   "cell_type": "code",
   "execution_count": 22,
   "metadata": {
    "collapsed": false
   },
   "outputs": [],
   "source": [
    "#Here we are looking at survival rate based on class\n",
    "pclass1_survived = data[(data['Pclass']==1)  & (data['Survived']==1)].count()['PassengerId']\n",
    "pclass2_survived = data[(data['Pclass']==2)  & (data['Survived']==1)].count()['PassengerId']\n",
    "pclass3_survived = data[(data['Pclass']==3)  & (data['Survived']==1)].count()['PassengerId']\n",
    "\n",
    "pclass1_survival_rate = pclass1_survived/pclass_1\n",
    "pclass2_survival_rate = pclass2_survived/pclass_2\n",
    "pclass3_survival_rate = pclass3_survived/pclass_3\n"
   ]
  },
  {
   "cell_type": "code",
   "execution_count": 23,
   "metadata": {
    "collapsed": false
   },
   "outputs": [
    {
     "name": "stdout",
     "output_type": "stream",
     "text": [
      "136\n",
      "87\n",
      "119\n"
     ]
    }
   ],
   "source": [
    "#Number of passengers in each class who survived\n",
    "print(pclass1_survived)\n",
    "print(pclass2_survived)\n",
    "print(pclass3_survived)"
   ]
  },
  {
   "cell_type": "code",
   "execution_count": 24,
   "metadata": {
    "collapsed": false
   },
   "outputs": [
    {
     "name": "stdout",
     "output_type": "stream",
     "text": [
      "0.62962962963\n",
      "0.472826086957\n",
      "0.242362525458\n"
     ]
    }
   ],
   "source": [
    "#Survival rate based on class\n",
    "print(pclass1_survival_rate)\n",
    "print(pclass2_survival_rate)\n",
    "print(pclass3_survival_rate)\n"
   ]
  },
  {
   "cell_type": "code",
   "execution_count": 25,
   "metadata": {
    "collapsed": true
   },
   "outputs": [],
   "source": [
    "#Comparing survival rates based on the embarked port\n",
    "embarked_C_survived = data[(data['Embarked']=='C')  & (data['Survived']==1)].count()['PassengerId']\n",
    "embarked_Q_survived = data[(data['Embarked']=='Q')  & (data['Survived']==1)].count()['PassengerId']\n",
    "embarked_S_survived = data[(data['Embarked']=='S')  & (data['Survived']==1)].count()['PassengerId']\n",
    "\n",
    "embarked_C_survival_rate = embarked_C_survived/embarked_C\n",
    "embarked_Q_survival_rate = embarked_Q_survived/embarked_Q\n",
    "embarked_S_survival_rate = embarked_S_survived/embarked_S\n"
   ]
  },
  {
   "cell_type": "code",
   "execution_count": 26,
   "metadata": {
    "collapsed": false
   },
   "outputs": [
    {
     "name": "stdout",
     "output_type": "stream",
     "text": [
      "93\n",
      "30\n",
      "217\n"
     ]
    }
   ],
   "source": [
    "#Number of passengers who embarked from each port who survived\n",
    "print(embarked_C_survived)\n",
    "print(embarked_Q_survived)\n",
    "print(embarked_S_survived)"
   ]
  },
  {
   "cell_type": "code",
   "execution_count": 27,
   "metadata": {
    "collapsed": false
   },
   "outputs": [
    {
     "name": "stdout",
     "output_type": "stream",
     "text": [
      "0.553571428571\n",
      "0.38961038961\n",
      "0.336956521739\n"
     ]
    }
   ],
   "source": [
    "#Survival rate based on previous cells output\n",
    "print(embarked_C_survival_rate)\n",
    "print(embarked_Q_survival_rate)\n",
    "print(embarked_S_survival_rate)"
   ]
  },
  {
   "cell_type": "code",
   "execution_count": 156,
   "metadata": {
    "collapsed": false,
    "scrolled": false
   },
   "outputs": [
    {
     "data": {
      "image/png": "[encoded data removed]",
      "text/plain": [
       "<matplotlib.figure.Figure at 0xaa8d978>"
      ]
     },
     "metadata": {},
     "output_type": "display_data"
    }
   ],
   "source": [
    "#Kernal density plot of survival and age\n",
    "sns.jointplot(x=\"Survived\", y=\"Age\", data=data, kind='kde');"
   ]
  },
  {
   "cell_type": "markdown",
   "metadata": {},
   "source": [
    "This plot is a good illustration of people's surivival and age. You can clearly see that people who didnt survive tended to be older than 20 and younger than 40. \n"
   ]
  },
  {
   "cell_type": "code",
   "execution_count": 166,
   "metadata": {
    "collapsed": false
   },
   "outputs": [
    {
     "data": {
      "image/png": "[encoded data removed]",
      "text/plain": [
       "<matplotlib.figure.Figure at 0xaa99d68>"
      ]
     },
     "metadata": {},
     "output_type": "display_data"
    }
   ],
   "source": [
    "#Kernal density plot of survival and parch\n",
    "sns.jointplot(x=\"Survived\", y=\"Parch\", data=data, kind=\"kde\");"
   ]
  },
  {
   "cell_type": "markdown",
   "metadata": {},
   "source": [
    "A little more difficult to see but there is a large density of people with 0 family members who didn't survive. "
   ]
  },
  {
   "cell_type": "code",
   "execution_count": 181,
   "metadata": {
    "collapsed": false
   },
   "outputs": [
    {
     "data": {
      "image/png": "[encoded data removed]",
      "text/plain": [
       "<matplotlib.figure.Figure at 0xc6c7ef0>"
      ]
     },
     "metadata": {},
     "output_type": "display_data"
    }
   ],
   "source": [
    "#Bar plot of Survival rate based on age groups and ticket class\n",
    "bins = [0, 25, 50, 75, 100]\n",
    "labels = [\"Young\", \"MiddleAge\", \"Senior\", \"Old\"]\n",
    "\n",
    "data['Agecategories'] = pd.cut(data['Age'], bins=bins, labels=labels)\n",
    "\n",
    "sns.barplot(x=\"Agecategories\", y='Survived', hue=\"Pclass\", data=data);"
   ]
  },
  {
   "cell_type": "markdown",
   "metadata": {},
   "source": [
    "This bar plot gives us a good snapshot of people's age, class and surivial mean. We can see 3rd Class senior's had the lowest survival rate, while Old first class(the only class) passengers had the highest. "
   ]
  },
  {
   "cell_type": "markdown",
   "metadata": {},
   "source": [
    "<h3>Final Analysis</h3><hr>\n",
    "\n",
    "Out of the almost 400 adult male passengers, only 69 survived. <br>\n",
    "Adult females had a very high survival rate. Out of the 193 adult females, 151 of them survived.<br>\n",
    "Minor females had a slighty lower survival rate than their adult counter parts, but it was still relatively high.<br>\n",
    "Minor males had almost twice the survival rate of their adult counter parts.<br>\n",
    "\n",
    "We can't say that being female caused a passenger to have a higher survival rate. There may have been correlation such as females being allowed on lifeboats before males. <br>\n",
    "Minor males may have had a higher survival rate by being allowed to get on life boats with their mothers. <br>\n",
    "<br>\n",
    "\n",
    "Interesting to note that people with high fares had a better survival rate. This could be purely coincidental though.<br>\n",
    "<br>\n",
    "\n",
    "Having a family gave someone a slightly higher chance at survival (15%). It might be because the family didn't want to be split up, which might have increased their chance of getting a life boat. <br>\n",
    "\n",
    "1st class passengers had twice the overall survival rate. Maybe they had better access to lifeboats. 3rd class tickets had a below average survival rate. <br>\n",
    "\n",
    "Embarking from port C gave the highest rate of survival. It is difficult to conclude how this may have allowed the passenger to survive better.<br>\n",
    "\n",
    "<h4>Conclusion</h4>\n",
    "\n",
    "Combining everything we have learned so far, we can answer our original question. Our passenger with the highest survival chance will be an adult female with a first class ticket that emabarked from port C. Testing our hypothesis, we discover that this is indeed true! This demographic had a 97% chance of survival, which is almost 3 times the average surivial rate. This group also  only had 1 casualty.\n"
   ]
  },
  {
   "cell_type": "code",
   "execution_count": 28,
   "metadata": {
    "collapsed": false
   },
   "outputs": [
    {
     "name": "stdout",
     "output_type": "stream",
     "text": [
      "33\n",
      "34\n",
      "0.970588235294\n"
     ]
    }
   ],
   "source": [
    "#Highest chance of survival\n",
    "final_survived = data[(data['Embarked']=='C')  & (data['Pclass']==1) & (data['Age'] > 18) &  (data['Sex']=='female') & (data['Survived']==1)].count()['PassengerId']\n",
    "final_total = data[(data['Embarked']=='C')  & (data['Pclass']==1) & (data['Age'] > 18) &  (data['Sex']=='female') ].count()['PassengerId']\n",
    "final_survival_rate = final_survived/final_total\n",
    "print(final_survived)\n",
    "print(final_total)\n",
    "print(final_survival_rate)"
   ]
  },
  {
   "cell_type": "markdown",
   "metadata": {},
   "source": [
    "<h3>Resources:<h3>\n",
    "\n",
    "https://www.kaggle.com/headsortails/pytanic/notebook\n",
    "\n",
    "https://discussions.udacity.com/t/how-to-compare-columns/250214\n",
    "\n",
    "https://discussions.udacity.com/t/how-to-add-two-data-frames/250223\n"
   ]
  },
  {
   "cell_type": "code",
   "execution_count": null,
   "metadata": {
    "collapsed": true
   },
   "outputs": [],
   "source": []
  },
  {
   "cell_type": "code",
   "execution_count": null,
   "metadata": {
    "collapsed": true
   },
   "outputs": [],
   "source": []
  },
  {
   "cell_type": "code",
   "execution_count": null,
   "metadata": {
    "collapsed": true
   },
   "outputs": [],
   "source": []
  }
 ],
 "metadata": {
  "kernelspec": {
   "display_name": "Python 3",
   "language": "python",
   "name": "python3"
  },
  "language_info": {
   "codemirror_mode": {
    "name": "ipython",
    "version": 3
   },
   "file_extension": ".py",
   "mimetype": "text/x-python",
   "name": "python",
   "nbconvert_exporter": "python",
   "pygments_lexer": "ipython3",
   "version": "3.5.3"
  }
 },
 "nbformat": 4,
 "nbformat_minor": 2
}
